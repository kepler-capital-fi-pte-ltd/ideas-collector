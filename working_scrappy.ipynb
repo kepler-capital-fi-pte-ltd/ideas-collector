{
 "cells": [
  {
   "cell_type": "code",
   "execution_count": 9,
   "metadata": {},
   "outputs": [],
   "source": [
    "import datetime\n",
    "\n",
    "class Idea(object):\n",
    "    def __init__(iden, barrid, company, author, market, position, thesis, metadata):\n",
    "        self.iden = iden\n",
    "        self.created = datetime.now()\n",
    "        self.barrid = barrid\n",
    "        self.company = company\n",
    "        self.author = author\n",
    "        self.market = market\n",
    "        self.position = position\n",
    "        self.thesis = thesis\n",
    "        self.metadata = metadata\n",
    "\n",
    "class User(object):\n",
    "    def __init__(iden, username, password, born, status):\n",
    "        self.iden = iden\n",
    "        self.username = username\n",
    "        self.password = password\n",
    "        self.born = datetime.now()\n",
    "        self.status = status"
   ]
  },
  {
   "cell_type": "code",
   "execution_count": null,
   "metadata": {},
   "outputs": [],
   "source": []
  }
 ],
 "metadata": {
  "kernelspec": {
   "display_name": "Python 3",
   "language": "python",
   "name": "python3"
  },
  "language_info": {
   "codemirror_mode": {
    "name": "ipython",
    "version": 3
   },
   "file_extension": ".py",
   "mimetype": "text/x-python",
   "name": "python",
   "nbconvert_exporter": "python",
   "pygments_lexer": "ipython3",
   "version": "3.7.3"
  }
 },
 "nbformat": 4,
 "nbformat_minor": 2
}
